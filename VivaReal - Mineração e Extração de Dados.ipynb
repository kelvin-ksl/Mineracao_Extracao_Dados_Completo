{
 "cells": [
  {
   "cell_type": "markdown",
   "id": "0a0f106d",
   "metadata": {},
   "source": [
    "# WEB SCRAPING - VIVAREAL"
   ]
  },
  {
   "cell_type": "code",
   "execution_count": 184,
   "id": "27dc7666",
   "metadata": {},
   "outputs": [
    {
     "data": {
      "text/plain": [
       "200"
      ]
     },
     "execution_count": 184,
     "metadata": {},
     "output_type": "execute_result"
    }
   ],
   "source": [
    "import re\n",
    "from bs4 import BeautifulSoup\n",
    "import pandas as pdR\n",
    "import requests\n",
    "import matplotlib.pyplot as plt\n",
    "import seaborn as sns\n",
    "import numpy as np\n",
    "import warnings\n",
    "warnings.filterwarnings('ignore') \n",
    "from selenium import webdriver\n",
    "from time import sleep\n",
    "from selenium.webdriver.common.by import By\n",
    "from selenium.webdriver.support.ui import WebDriverWait\n",
    "from selenium.webdriver.support import expected_conditions as EC\n",
    "\n",
    "coleta = requests.get('https://www.vivareal.com.br/aluguel/sp/campinas/?__vt=lnv:a&pagina=4#ordenar-por=preco-total:ASC')\n",
    "coleta.status_code"
   ]
  },
  {
   "cell_type": "code",
   "execution_count": 182,
   "id": "79f073d3",
   "metadata": {},
   "outputs": [],
   "source": [
    "lista_imoveis = []"
   ]
  },
  {
   "cell_type": "code",
   "execution_count": 235,
   "id": "946cedaa",
   "metadata": {},
   "outputs": [
    {
     "name": "stdout",
     "output_type": "stream",
     "text": [
      "Digite o numero de paginas que deseja extrair: 2\n"
     ]
    }
   ],
   "source": [
    "paginas = int(input(\"Digite o numero de paginas que deseja extrair: \"))\n",
    "\n",
    "driver = webdriver.Chrome()\n",
    "\n",
    "driver.get('https://www.vivareal.com.br/aluguel/sp/campinas/apartamento_residencial/?pagina=2#preco-ate=5000')\n",
    "sleep(2)\n",
    "\n",
    "#Varre a quantidade de paginas desejadas \n",
    "for n in range (1,paginas,1):\n",
    "    \n",
    "    #clica no botão próxima página\n",
    "    driver.execute_script(\"arguments[0].click();\", WebDriverWait(driver, 20).until(EC.element_to_be_clickable((By.XPATH, '//*[@id=\"js-site-main\"]/div[2]/div[1]/section/div[2]/div[2]/div/ul/li[9]/button'))))\n",
    "    sleep(3)\n",
    "    \n",
    "    page_content = driver.page_source\n",
    " \n",
    "    site = BeautifulSoup(page_content, 'html.parser')\n",
    "    \n",
    "    #print(site)\n",
    "    sleep(2)\n",
    "    #Coleta a localização da div mãe\n",
    "    imoveis = site.findAll('article', attrs={'class': 'property-card__container js-property-card'})\n",
    "    \n",
    "    #print(imoveis)\n",
    "    #Busca as tags correspondentes dentro da div mãe\n",
    "    for n in imoveis:\n",
    "        \n",
    "\n",
    "        #coleta ao titulo\n",
    "        titulo = n.find(class_=\"property-card__title js-cardLink js-card-title\").text.strip()\n",
    "        \n",
    "        #coleta o endereco\n",
    "        endereco = n.find('span', attrs={'class': 'property-card__address'}) \n",
    "        \n",
    "        #coleta o metragem\n",
    "        metro = n.find(class_=\"property-card__detail-value js-property-card-value property-card__detail-area js-property-card-detail-area\").text.strip()\n",
    "        \n",
    "        #coleta o quarto\n",
    "        quarto = n.find(class_=\"property-card__detail-item property-card__detail-room js-property-detail-rooms\").text.strip()\n",
    "        quarto.rstrip(\"Quarto\")\n",
    "        \n",
    "        #coleta banheiro\n",
    "        banheiro = n.find(class_=\"property-card__detail-item property-card__detail-bathroom js-property-detail-bathroom\").text.strip() \n",
    "        \n",
    "        #coleta garagem\n",
    "        garagem = n.find(class_=\"property-card__detail-item property-card__detail-garage js-property-detail-garages\").text.strip() \n",
    "        \n",
    "        #coleta preco\n",
    "        preco = n.find(class_=\"property-card__price js-property-card-prices js-property-card__price-small\").text.strip() \n",
    "        \n",
    "        #Armazena os dados coletados na div\n",
    "        lista_imoveis.append([titulo, endereco.text, metro, quarto, banheiro, garagem, preco])\n",
    "\n"
   ]
  },
  {
   "cell_type": "code",
   "execution_count": 7,
   "id": "a0a48297",
   "metadata": {},
   "outputs": [
    {
     "data": {
      "text/html": [
       "<div>\n",
       "<style scoped>\n",
       "    .dataframe tbody tr th:only-of-type {\n",
       "        vertical-align: middle;\n",
       "    }\n",
       "\n",
       "    .dataframe tbody tr th {\n",
       "        vertical-align: top;\n",
       "    }\n",
       "\n",
       "    .dataframe thead th {\n",
       "        text-align: right;\n",
       "    }\n",
       "</style>\n",
       "<table border=\"1\" class=\"dataframe\">\n",
       "  <thead>\n",
       "    <tr style=\"text-align: right;\">\n",
       "      <th></th>\n",
       "      <th>Título</th>\n",
       "      <th>Endereço</th>\n",
       "      <th>Metro_m2</th>\n",
       "      <th>N_Quartos</th>\n",
       "      <th>N_Banheiros</th>\n",
       "      <th>N_Garagens</th>\n",
       "      <th>Valor_Mensal</th>\n",
       "    </tr>\n",
       "  </thead>\n",
       "  <tbody>\n",
       "    <tr>\n",
       "      <th>0</th>\n",
       "      <td>Apartamento com 3 Quartos para Aluguel, 96m²</td>\n",
       "      <td>Avenida Maria Emília Alves dos Santos de Ângel...</td>\n",
       "      <td>96</td>\n",
       "      <td>3\\n              \\n\\n                Quartos</td>\n",
       "      <td>2\\n              \\n\\n                Banheiros</td>\n",
       "      <td>2\\n                \\n\\n                  Vagas</td>\n",
       "      <td>R$ 2.800\\n                      /Mês</td>\n",
       "    </tr>\n",
       "    <tr>\n",
       "      <th>1</th>\n",
       "      <td>Apartamento com  Quarto para Venda/Aluguel 37m²</td>\n",
       "      <td>Avenida Francisco Glicério, 1745 - Centro, Cam...</td>\n",
       "      <td>37</td>\n",
       "      <td>1\\n              \\n\\n                Quarto</td>\n",
       "      <td>1\\n              \\n\\n                Banheiro</td>\n",
       "      <td>--\\n                \\n\\n                  Vaga</td>\n",
       "      <td>R$ 780\\n                      /Mês</td>\n",
       "    </tr>\n",
       "    <tr>\n",
       "      <th>2</th>\n",
       "      <td>Apartamento com 2 Quartos para Aluguel, 70m²</td>\n",
       "      <td>Rua Reinaldo Laubenstein, 271 - Jardim Chapadã...</td>\n",
       "      <td>70</td>\n",
       "      <td>2\\n              \\n\\n                Quartos</td>\n",
       "      <td>1\\n              \\n\\n                Banheiro</td>\n",
       "      <td>1\\n                \\n\\n                  Vaga</td>\n",
       "      <td>R$ 950\\n                      /Mês</td>\n",
       "    </tr>\n",
       "    <tr>\n",
       "      <th>3</th>\n",
       "      <td>Apartamento com  Quarto para Aluguel, 50m²</td>\n",
       "      <td>Botafogo, Campinas - SP</td>\n",
       "      <td>50</td>\n",
       "      <td>1\\n              \\n\\n                Quarto</td>\n",
       "      <td>1\\n              \\n\\n                Banheiro</td>\n",
       "      <td>1\\n                \\n\\n                  Vaga</td>\n",
       "      <td>R$ 900\\n                      /Mês</td>\n",
       "    </tr>\n",
       "    <tr>\n",
       "      <th>4</th>\n",
       "      <td>Apartamento com 2 Quartos para Aluguel, 54m²</td>\n",
       "      <td>Rua Bernardino Martins Filho - Jardim das Band...</td>\n",
       "      <td>54</td>\n",
       "      <td>2\\n              \\n\\n                Quartos</td>\n",
       "      <td>1\\n              \\n\\n                Banheiro</td>\n",
       "      <td>1\\n                \\n\\n                  Vaga</td>\n",
       "      <td>R$ 750\\n                      /Mês</td>\n",
       "    </tr>\n",
       "  </tbody>\n",
       "</table>\n",
       "</div>"
      ],
      "text/plain": [
       "                                            Título  \\\n",
       "0     Apartamento com 3 Quartos para Aluguel, 96m²   \n",
       "1  Apartamento com  Quarto para Venda/Aluguel 37m²   \n",
       "2     Apartamento com 2 Quartos para Aluguel, 70m²   \n",
       "3       Apartamento com  Quarto para Aluguel, 50m²   \n",
       "4     Apartamento com 2 Quartos para Aluguel, 54m²   \n",
       "\n",
       "                                            Endereço Metro_m2  \\\n",
       "0  Avenida Maria Emília Alves dos Santos de Ângel...       96   \n",
       "1  Avenida Francisco Glicério, 1745 - Centro, Cam...       37   \n",
       "2  Rua Reinaldo Laubenstein, 271 - Jardim Chapadã...       70   \n",
       "3                            Botafogo, Campinas - SP       50   \n",
       "4  Rua Bernardino Martins Filho - Jardim das Band...       54   \n",
       "\n",
       "                                      N_Quartos  \\\n",
       "0  3\\n              \\n\\n                Quartos   \n",
       "1   1\\n              \\n\\n                Quarto   \n",
       "2  2\\n              \\n\\n                Quartos   \n",
       "3   1\\n              \\n\\n                Quarto   \n",
       "4  2\\n              \\n\\n                Quartos   \n",
       "\n",
       "                                      N_Banheiros  \\\n",
       "0  2\\n              \\n\\n                Banheiros   \n",
       "1   1\\n              \\n\\n                Banheiro   \n",
       "2   1\\n              \\n\\n                Banheiro   \n",
       "3   1\\n              \\n\\n                Banheiro   \n",
       "4   1\\n              \\n\\n                Banheiro   \n",
       "\n",
       "                                       N_Garagens  \\\n",
       "0  2\\n                \\n\\n                  Vagas   \n",
       "1  --\\n                \\n\\n                  Vaga   \n",
       "2   1\\n                \\n\\n                  Vaga   \n",
       "3   1\\n                \\n\\n                  Vaga   \n",
       "4   1\\n                \\n\\n                  Vaga   \n",
       "\n",
       "                           Valor_Mensal  \n",
       "0  R$ 2.800\\n                      /Mês  \n",
       "1    R$ 780\\n                      /Mês  \n",
       "2    R$ 950\\n                      /Mês  \n",
       "3    R$ 900\\n                      /Mês  \n",
       "4    R$ 750\\n                      /Mês  "
      ]
     },
     "execution_count": 7,
     "metadata": {},
     "output_type": "execute_result"
    }
   ],
   "source": [
    "#Cria dataframe\n",
    "df = pd.DataFrame(lista_imoveis, columns=['Título','Endereço', 'Metro_m2', 'N_Quartos', 'N_Banheiros', 'N_Garagens', 'Valor_Mensal'])\n",
    "#Salva datraframe em arquivo csv\n",
    "df.to_csv('vvivareal_campinas.csv', index=False)\n",
    "df.head()\n"
   ]
  },
  {
   "cell_type": "markdown",
   "id": "91c2e4a2",
   "metadata": {},
   "source": [
    "# Parte 2 - Análise Exploratória dos Dados"
   ]
  },
  {
   "cell_type": "code",
   "execution_count": 185,
   "id": "eb8467df",
   "metadata": {},
   "outputs": [
    {
     "data": {
      "text/plain": [
       "5508"
      ]
     },
     "execution_count": 185,
     "metadata": {},
     "output_type": "execute_result"
    }
   ],
   "source": [
    "df = pd.read_csv('vvivareal_campinas.csv')\n",
    "df.shape[0] "
   ]
  },
  {
   "cell_type": "code",
   "execution_count": 186,
   "id": "e2b06eab",
   "metadata": {},
   "outputs": [
    {
     "data": {
      "text/html": [
       "<div>\n",
       "<style scoped>\n",
       "    .dataframe tbody tr th:only-of-type {\n",
       "        vertical-align: middle;\n",
       "    }\n",
       "\n",
       "    .dataframe tbody tr th {\n",
       "        vertical-align: top;\n",
       "    }\n",
       "\n",
       "    .dataframe thead th {\n",
       "        text-align: right;\n",
       "    }\n",
       "</style>\n",
       "<table border=\"1\" class=\"dataframe\">\n",
       "  <thead>\n",
       "    <tr style=\"text-align: right;\">\n",
       "      <th></th>\n",
       "      <th>Título</th>\n",
       "      <th>Endereço</th>\n",
       "      <th>Metro_m2</th>\n",
       "      <th>N_Quartos</th>\n",
       "      <th>N_Banheiros</th>\n",
       "      <th>N_Garagens</th>\n",
       "      <th>Valor_Mensal</th>\n",
       "    </tr>\n",
       "  </thead>\n",
       "  <tbody>\n",
       "    <tr>\n",
       "      <th>0</th>\n",
       "      <td>Apartamento com 3 Quartos para Aluguel, 96m²</td>\n",
       "      <td>Avenida Maria Emília Alves dos Santos de Ângel...</td>\n",
       "      <td>96</td>\n",
       "      <td>3\\n              \\n\\n                Quartos</td>\n",
       "      <td>2\\n              \\n\\n                Banheiros</td>\n",
       "      <td>2\\n                \\n\\n                  Vagas</td>\n",
       "      <td>R$ 2.800\\n                      /Mês</td>\n",
       "    </tr>\n",
       "    <tr>\n",
       "      <th>1</th>\n",
       "      <td>Apartamento com  Quarto para Venda/Aluguel 37m²</td>\n",
       "      <td>Avenida Francisco Glicério, 1745 - Centro, Cam...</td>\n",
       "      <td>37</td>\n",
       "      <td>1\\n              \\n\\n                Quarto</td>\n",
       "      <td>1\\n              \\n\\n                Banheiro</td>\n",
       "      <td>--\\n                \\n\\n                  Vaga</td>\n",
       "      <td>R$ 780\\n                      /Mês</td>\n",
       "    </tr>\n",
       "    <tr>\n",
       "      <th>2</th>\n",
       "      <td>Apartamento com 2 Quartos para Aluguel, 70m²</td>\n",
       "      <td>Rua Reinaldo Laubenstein, 271 - Jardim Chapadã...</td>\n",
       "      <td>70</td>\n",
       "      <td>2\\n              \\n\\n                Quartos</td>\n",
       "      <td>1\\n              \\n\\n                Banheiro</td>\n",
       "      <td>1\\n                \\n\\n                  Vaga</td>\n",
       "      <td>R$ 950\\n                      /Mês</td>\n",
       "    </tr>\n",
       "    <tr>\n",
       "      <th>3</th>\n",
       "      <td>Apartamento com  Quarto para Aluguel, 50m²</td>\n",
       "      <td>Botafogo, Campinas - SP</td>\n",
       "      <td>50</td>\n",
       "      <td>1\\n              \\n\\n                Quarto</td>\n",
       "      <td>1\\n              \\n\\n                Banheiro</td>\n",
       "      <td>1\\n                \\n\\n                  Vaga</td>\n",
       "      <td>R$ 900\\n                      /Mês</td>\n",
       "    </tr>\n",
       "    <tr>\n",
       "      <th>4</th>\n",
       "      <td>Apartamento com 2 Quartos para Aluguel, 54m²</td>\n",
       "      <td>Rua Bernardino Martins Filho - Jardim das Band...</td>\n",
       "      <td>54</td>\n",
       "      <td>2\\n              \\n\\n                Quartos</td>\n",
       "      <td>1\\n              \\n\\n                Banheiro</td>\n",
       "      <td>1\\n                \\n\\n                  Vaga</td>\n",
       "      <td>R$ 750\\n                      /Mês</td>\n",
       "    </tr>\n",
       "  </tbody>\n",
       "</table>\n",
       "</div>"
      ],
      "text/plain": [
       "                                            Título  \\\n",
       "0     Apartamento com 3 Quartos para Aluguel, 96m²   \n",
       "1  Apartamento com  Quarto para Venda/Aluguel 37m²   \n",
       "2     Apartamento com 2 Quartos para Aluguel, 70m²   \n",
       "3       Apartamento com  Quarto para Aluguel, 50m²   \n",
       "4     Apartamento com 2 Quartos para Aluguel, 54m²   \n",
       "\n",
       "                                            Endereço  Metro_m2  \\\n",
       "0  Avenida Maria Emília Alves dos Santos de Ângel...        96   \n",
       "1  Avenida Francisco Glicério, 1745 - Centro, Cam...        37   \n",
       "2  Rua Reinaldo Laubenstein, 271 - Jardim Chapadã...        70   \n",
       "3                            Botafogo, Campinas - SP        50   \n",
       "4  Rua Bernardino Martins Filho - Jardim das Band...        54   \n",
       "\n",
       "                                      N_Quartos  \\\n",
       "0  3\\n              \\n\\n                Quartos   \n",
       "1   1\\n              \\n\\n                Quarto   \n",
       "2  2\\n              \\n\\n                Quartos   \n",
       "3   1\\n              \\n\\n                Quarto   \n",
       "4  2\\n              \\n\\n                Quartos   \n",
       "\n",
       "                                      N_Banheiros  \\\n",
       "0  2\\n              \\n\\n                Banheiros   \n",
       "1   1\\n              \\n\\n                Banheiro   \n",
       "2   1\\n              \\n\\n                Banheiro   \n",
       "3   1\\n              \\n\\n                Banheiro   \n",
       "4   1\\n              \\n\\n                Banheiro   \n",
       "\n",
       "                                       N_Garagens  \\\n",
       "0  2\\n                \\n\\n                  Vagas   \n",
       "1  --\\n                \\n\\n                  Vaga   \n",
       "2   1\\n                \\n\\n                  Vaga   \n",
       "3   1\\n                \\n\\n                  Vaga   \n",
       "4   1\\n                \\n\\n                  Vaga   \n",
       "\n",
       "                           Valor_Mensal  \n",
       "0  R$ 2.800\\n                      /Mês  \n",
       "1    R$ 780\\n                      /Mês  \n",
       "2    R$ 950\\n                      /Mês  \n",
       "3    R$ 900\\n                      /Mês  \n",
       "4    R$ 750\\n                      /Mês  "
      ]
     },
     "execution_count": 186,
     "metadata": {},
     "output_type": "execute_result"
    }
   ],
   "source": [
    "df.head()"
   ]
  },
  {
   "cell_type": "code",
   "execution_count": 187,
   "id": "77749151",
   "metadata": {},
   "outputs": [
    {
     "data": {
      "text/plain": [
       "2834"
      ]
     },
     "execution_count": 187,
     "metadata": {},
     "output_type": "execute_result"
    }
   ],
   "source": [
    "#Remove valores duplicados\n",
    "df = df.drop_duplicates()\n",
    "df.shape[0] "
   ]
  },
  {
   "cell_type": "code",
   "execution_count": 188,
   "id": "9612d423",
   "metadata": {},
   "outputs": [],
   "source": [
    "#Remove todas strings das colunas definidas \n",
    "df['N_Banheiros'] = df['N_Banheiros'].str.extract('(\\d+)', expand=False)\n",
    "df['N_Garagens'] = df['N_Garagens'].str.extract('(\\d+)', expand=False)\n",
    "df['N_Quartos'] = df['N_Quartos'].str.extract('(\\d+)', expand=False)\n",
    "\n",
    "df[\"Valor_Mensal\"] = df[\"Valor_Mensal\"].astype(str)\n",
    "df[\"Valor_Mensal\"] = df[\"Valor_Mensal\"].str.replace('.', '')\n",
    "df['Valor_Mensal'] = df['Valor_Mensal'].str.extract('(\\d+)', expand=False)\n",
    "#df.head()"
   ]
  },
  {
   "cell_type": "code",
   "execution_count": 189,
   "id": "01350f6c",
   "metadata": {},
   "outputs": [
    {
     "name": "stdout",
     "output_type": "stream",
     "text": [
      "<class 'pandas.core.frame.DataFrame'>\n",
      "Int64Index: 2834 entries, 0 to 5507\n",
      "Data columns (total 7 columns):\n",
      " #   Column        Non-Null Count  Dtype \n",
      "---  ------        --------------  ----- \n",
      " 0   Título        2834 non-null   object\n",
      " 1   Endereço      2834 non-null   object\n",
      " 2   Metro_m2      2834 non-null   int64 \n",
      " 3   N_Quartos     2834 non-null   object\n",
      " 4   N_Banheiros   2834 non-null   object\n",
      " 5   N_Garagens    2454 non-null   object\n",
      " 6   Valor_Mensal  2834 non-null   object\n",
      "dtypes: int64(1), object(6)\n",
      "memory usage: 177.1+ KB\n"
     ]
    }
   ],
   "source": [
    "df.info()"
   ]
  },
  {
   "cell_type": "code",
   "execution_count": 190,
   "id": "6963af97",
   "metadata": {},
   "outputs": [],
   "source": [
    "#Substitui campos 'Nan' por 0\n",
    "df = df.fillna(0)\n",
    "#Converte a coluna para int\n",
    "df = df.astype({'N_Quartos' : 'int',\n",
    "               'N_Banheiros' : 'int',\n",
    "               'N_Garagens' : 'int',\n",
    "               'Valor_Mensal' : 'int'})"
   ]
  },
  {
   "cell_type": "code",
   "execution_count": 191,
   "id": "555783ae",
   "metadata": {},
   "outputs": [
    {
     "data": {
      "text/html": [
       "<div>\n",
       "<style scoped>\n",
       "    .dataframe tbody tr th:only-of-type {\n",
       "        vertical-align: middle;\n",
       "    }\n",
       "\n",
       "    .dataframe tbody tr th {\n",
       "        vertical-align: top;\n",
       "    }\n",
       "\n",
       "    .dataframe thead th {\n",
       "        text-align: right;\n",
       "    }\n",
       "</style>\n",
       "<table border=\"1\" class=\"dataframe\">\n",
       "  <thead>\n",
       "    <tr style=\"text-align: right;\">\n",
       "      <th></th>\n",
       "      <th>Metro_m2</th>\n",
       "      <th>N_Quartos</th>\n",
       "      <th>N_Banheiros</th>\n",
       "      <th>N_Garagens</th>\n",
       "      <th>Valor_Mensal</th>\n",
       "    </tr>\n",
       "  </thead>\n",
       "  <tbody>\n",
       "    <tr>\n",
       "      <th>count</th>\n",
       "      <td>2834.000000</td>\n",
       "      <td>2834.000000</td>\n",
       "      <td>2834.000000</td>\n",
       "      <td>2834.000000</td>\n",
       "      <td>2834.000000</td>\n",
       "    </tr>\n",
       "    <tr>\n",
       "      <th>mean</th>\n",
       "      <td>76.791108</td>\n",
       "      <td>2.054693</td>\n",
       "      <td>1.772759</td>\n",
       "      <td>1.193366</td>\n",
       "      <td>1996.532463</td>\n",
       "    </tr>\n",
       "    <tr>\n",
       "      <th>std</th>\n",
       "      <td>46.170070</td>\n",
       "      <td>0.864347</td>\n",
       "      <td>0.983388</td>\n",
       "      <td>0.773282</td>\n",
       "      <td>1147.317489</td>\n",
       "    </tr>\n",
       "    <tr>\n",
       "      <th>min</th>\n",
       "      <td>10.000000</td>\n",
       "      <td>1.000000</td>\n",
       "      <td>1.000000</td>\n",
       "      <td>0.000000</td>\n",
       "      <td>400.000000</td>\n",
       "    </tr>\n",
       "    <tr>\n",
       "      <th>25%</th>\n",
       "      <td>50.000000</td>\n",
       "      <td>1.000000</td>\n",
       "      <td>1.000000</td>\n",
       "      <td>1.000000</td>\n",
       "      <td>1100.000000</td>\n",
       "    </tr>\n",
       "    <tr>\n",
       "      <th>50%</th>\n",
       "      <td>65.000000</td>\n",
       "      <td>2.000000</td>\n",
       "      <td>1.000000</td>\n",
       "      <td>1.000000</td>\n",
       "      <td>1600.000000</td>\n",
       "    </tr>\n",
       "    <tr>\n",
       "      <th>75%</th>\n",
       "      <td>86.000000</td>\n",
       "      <td>3.000000</td>\n",
       "      <td>2.000000</td>\n",
       "      <td>2.000000</td>\n",
       "      <td>2700.000000</td>\n",
       "    </tr>\n",
       "    <tr>\n",
       "      <th>max</th>\n",
       "      <td>400.000000</td>\n",
       "      <td>5.000000</td>\n",
       "      <td>6.000000</td>\n",
       "      <td>11.000000</td>\n",
       "      <td>5000.000000</td>\n",
       "    </tr>\n",
       "  </tbody>\n",
       "</table>\n",
       "</div>"
      ],
      "text/plain": [
       "          Metro_m2    N_Quartos  N_Banheiros   N_Garagens  Valor_Mensal\n",
       "count  2834.000000  2834.000000  2834.000000  2834.000000   2834.000000\n",
       "mean     76.791108     2.054693     1.772759     1.193366   1996.532463\n",
       "std      46.170070     0.864347     0.983388     0.773282   1147.317489\n",
       "min      10.000000     1.000000     1.000000     0.000000    400.000000\n",
       "25%      50.000000     1.000000     1.000000     1.000000   1100.000000\n",
       "50%      65.000000     2.000000     1.000000     1.000000   1600.000000\n",
       "75%      86.000000     3.000000     2.000000     2.000000   2700.000000\n",
       "max     400.000000     5.000000     6.000000    11.000000   5000.000000"
      ]
     },
     "execution_count": 191,
     "metadata": {},
     "output_type": "execute_result"
    }
   ],
   "source": [
    "df.describe()"
   ]
  },
  {
   "cell_type": "markdown",
   "id": "d7404194",
   "metadata": {},
   "source": [
    "### Quantidade de Linhas(Dados)"
   ]
  },
  {
   "cell_type": "code",
   "execution_count": 192,
   "id": "4931ef85",
   "metadata": {},
   "outputs": [
    {
     "data": {
      "text/plain": [
       "2834"
      ]
     },
     "execution_count": 192,
     "metadata": {},
     "output_type": "execute_result"
    }
   ],
   "source": [
    "df.shape[0] "
   ]
  },
  {
   "cell_type": "markdown",
   "id": "390a1251",
   "metadata": {},
   "source": [
    "### Moradias Agrupadas por Metragem"
   ]
  },
  {
   "cell_type": "code",
   "execution_count": 193,
   "id": "66ff537c",
   "metadata": {},
   "outputs": [
    {
     "data": {
      "text/plain": [
       "50     165\n",
       "45     123\n",
       "70     122\n",
       "60     102\n",
       "55      92\n",
       "      ... \n",
       "31       1\n",
       "207      1\n",
       "112      1\n",
       "285      1\n",
       "281      1\n",
       "Name: Metro_m2, Length: 197, dtype: int64"
      ]
     },
     "execution_count": 193,
     "metadata": {},
     "output_type": "execute_result"
    }
   ],
   "source": [
    "df.Metro_m2.value_counts()"
   ]
  },
  {
   "cell_type": "code",
   "execution_count": 194,
   "id": "0f35e3ef",
   "metadata": {},
   "outputs": [
    {
     "data": {
      "text/plain": [
       "(-0.5, 19.5)"
      ]
     },
     "execution_count": 194,
     "metadata": {},
     "output_type": "execute_result"
    },
    {
     "data": {
      "image/png": "[encoded data removed]",
      "text/plain": [
       "<Figure size 1440x432 with 1 Axes>"
      ]
     },
     "metadata": {
      "needs_background": "light"
     },
     "output_type": "display_data"
    }
   ],
   "source": [
    "fig = plt.figure(figsize=(20,6))\n",
    "sns.countplot(x='Metro_m2',order=df['Metro_m2'].value_counts().index,data=df)\n",
    "\n",
    "plt.title('Metragem dos Imóveis',fontsize=15)\n",
    "plt.ylabel('Quantidade de Propriedades',fontsize=12)\n",
    "plt.xlabel('Quantidade de Metragem',fontsize=12)\n",
    "plt.xlim(-0.5,19.5)"
   ]
  },
  {
   "cell_type": "markdown",
   "id": "f0af2ceb",
   "metadata": {},
   "source": [
    "### Moradias Agrupadas por Número de Banheiros"
   ]
  },
  {
   "cell_type": "code",
   "execution_count": 195,
   "id": "84cd83e3",
   "metadata": {},
   "outputs": [
    {
     "data": {
      "text/plain": [
       "1    1426\n",
       "2     888\n",
       "3     330\n",
       "4     123\n",
       "5      62\n",
       "6       5\n",
       "Name: N_Banheiros, dtype: int64"
      ]
     },
     "execution_count": 195,
     "metadata": {},
     "output_type": "execute_result"
    }
   ],
   "source": [
    "df.N_Banheiros.value_counts()"
   ]
  },
  {
   "cell_type": "code",
   "execution_count": 196,
   "id": "79b437bf",
   "metadata": {},
   "outputs": [
    {
     "data": {
      "text/plain": [
       "Text(0.5, 0, 'Quantidade de Banheiro')"
      ]
     },
     "execution_count": 196,
     "metadata": {},
     "output_type": "execute_result"
    },
    {
     "data": {
      "image/png": "[encoded data removed]",
      "text/plain": [
       "<Figure size 1080x432 with 1 Axes>"
      ]
     },
     "metadata": {
      "needs_background": "light"
     },
     "output_type": "display_data"
    }
   ],
   "source": [
    "fig = plt.figure(figsize=(15,6))\n",
    "sns.countplot(x='N_Banheiros',order=df['N_Banheiros'].value_counts().index,data=df)\n",
    "\n",
    "plt.title('Imóveis com Banheiro',fontsize=15)\n",
    "plt.ylabel('Quantidade de Propriedades',fontsize=12)\n",
    "plt.xlabel('Quantidade de Banheiro',fontsize=12)\n"
   ]
  },
  {
   "cell_type": "markdown",
   "id": "4bae3d58",
   "metadata": {},
   "source": [
    "### Moradias Agrupadas por Número de Quartos"
   ]
  },
  {
   "cell_type": "code",
   "execution_count": 197,
   "id": "69a2ce24",
   "metadata": {},
   "outputs": [
    {
     "data": {
      "text/plain": [
       "2    1104\n",
       "1     850\n",
       "3     765\n",
       "4     105\n",
       "5      10\n",
       "Name: N_Quartos, dtype: int64"
      ]
     },
     "execution_count": 197,
     "metadata": {},
     "output_type": "execute_result"
    }
   ],
   "source": [
    "df.N_Quartos.value_counts()"
   ]
  },
  {
   "cell_type": "code",
   "execution_count": 198,
   "id": "80700c4f",
   "metadata": {},
   "outputs": [
    {
     "data": {
      "text/plain": [
       "Text(0.5, 0, 'Quantidade de Quartos')"
      ]
     },
     "execution_count": 198,
     "metadata": {},
     "output_type": "execute_result"
    },
    {
     "data": {
      "image/png": "[encoded data removed]",
      "text/plain": [
       "<Figure size 1080x432 with 1 Axes>"
      ]
     },
     "metadata": {
      "needs_background": "light"
     },
     "output_type": "display_data"
    }
   ],
   "source": [
    "fig = plt.figure(figsize=(15,6))\n",
    "sns.countplot(x='N_Quartos',order=df['N_Quartos'].value_counts().index,data=df)\n",
    "\n",
    "plt.title('Imóveis com Quartos',fontsize=15)\n",
    "plt.ylabel('Quantidade de Propriedades',fontsize=12)\n",
    "plt.xlabel('Quantidade de Quartos',fontsize=12)"
   ]
  },
  {
   "cell_type": "markdown",
   "id": "f7eab20e",
   "metadata": {},
   "source": [
    "### Moradias Agrupadas por Número de Vagas"
   ]
  },
  {
   "cell_type": "code",
   "execution_count": 199,
   "id": "e9f9c776",
   "metadata": {},
   "outputs": [
    {
     "data": {
      "text/plain": [
       "1     1678\n",
       "2      661\n",
       "0      380\n",
       "3       98\n",
       "4       11\n",
       "7        2\n",
       "5        2\n",
       "9        1\n",
       "11       1\n",
       "Name: N_Garagens, dtype: int64"
      ]
     },
     "execution_count": 199,
     "metadata": {},
     "output_type": "execute_result"
    }
   ],
   "source": [
    "df.N_Garagens.value_counts()"
   ]
  },
  {
   "cell_type": "code",
   "execution_count": 200,
   "id": "f2942e24",
   "metadata": {},
   "outputs": [
    {
     "data": {
      "text/plain": [
       "Text(0.5, 0, 'Quantidade de Garagens')"
      ]
     },
     "execution_count": 200,
     "metadata": {},
     "output_type": "execute_result"
    },
    {
     "data": {
      "image/png": "[encoded data removed]",
      "text/plain": [
       "<Figure size 1080x432 with 1 Axes>"
      ]
     },
     "metadata": {
      "needs_background": "light"
     },
     "output_type": "display_data"
    }
   ],
   "source": [
    "fig = plt.figure(figsize=(15,6))\n",
    "sns.countplot(x='N_Garagens',order=df['N_Garagens'].value_counts().index,data=df)\n",
    "\n",
    "plt.title('Imóveis com Garagens',fontsize=15)\n",
    "plt.ylabel('Quantidade de Propriedades',fontsize=12)\n",
    "plt.xlabel('Quantidade de Garagens',fontsize=12)\n",
    "#plt.xlim(-0.5,19.5)"
   ]
  },
  {
   "cell_type": "markdown",
   "id": "cb1c4cc2",
   "metadata": {},
   "source": [
    "## Ocorrências"
   ]
  },
  {
   "cell_type": "markdown",
   "id": "4f74efee",
   "metadata": {},
   "source": [
    "**Ocorrência de Metragem**"
   ]
  },
  {
   "cell_type": "code",
   "execution_count": 201,
   "id": "4c3046c8",
   "metadata": {},
   "outputs": [
    {
     "data": {
      "text/plain": [
       "50     0.058222\n",
       "45     0.043402\n",
       "70     0.043049\n",
       "60     0.035992\n",
       "55     0.032463\n",
       "         ...   \n",
       "31     0.000353\n",
       "207    0.000353\n",
       "112    0.000353\n",
       "285    0.000353\n",
       "281    0.000353\n",
       "Name: Metro_m2, Length: 197, dtype: float64"
      ]
     },
     "execution_count": 201,
     "metadata": {},
     "output_type": "execute_result"
    }
   ],
   "source": [
    "df.Metro_m2.value_counts() / df.shape[0]"
   ]
  },
  {
   "cell_type": "markdown",
   "id": "6e16cdfe",
   "metadata": {},
   "source": [
    "**Ocorrência de Banheiros**"
   ]
  },
  {
   "cell_type": "code",
   "execution_count": 202,
   "id": "2014d32d",
   "metadata": {},
   "outputs": [
    {
     "data": {
      "text/plain": [
       "1    0.503176\n",
       "2    0.313338\n",
       "3    0.116443\n",
       "4    0.043402\n",
       "5    0.021877\n",
       "6    0.001764\n",
       "Name: N_Banheiros, dtype: float64"
      ]
     },
     "execution_count": 202,
     "metadata": {},
     "output_type": "execute_result"
    }
   ],
   "source": [
    "df.N_Banheiros.value_counts() / df.shape[0]"
   ]
  },
  {
   "cell_type": "markdown",
   "id": "d3a77699",
   "metadata": {},
   "source": [
    "**Ocorrência de Quartos**"
   ]
  },
  {
   "cell_type": "code",
   "execution_count": 203,
   "id": "1c71615c",
   "metadata": {},
   "outputs": [
    {
     "data": {
      "text/plain": [
       "2    0.389555\n",
       "1    0.299929\n",
       "3    0.269936\n",
       "4    0.037050\n",
       "5    0.003529\n",
       "Name: N_Quartos, dtype: float64"
      ]
     },
     "execution_count": 203,
     "metadata": {},
     "output_type": "execute_result"
    }
   ],
   "source": [
    "df.N_Quartos.value_counts() / df.shape[0]"
   ]
  },
  {
   "cell_type": "markdown",
   "id": "92627569",
   "metadata": {},
   "source": [
    "**Ocorrência de Garagens**"
   ]
  },
  {
   "cell_type": "code",
   "execution_count": 204,
   "id": "036518a6",
   "metadata": {},
   "outputs": [
    {
     "data": {
      "text/plain": [
       "1     0.592096\n",
       "2     0.233239\n",
       "0     0.134086\n",
       "3     0.034580\n",
       "4     0.003881\n",
       "7     0.000706\n",
       "5     0.000706\n",
       "9     0.000353\n",
       "11    0.000353\n",
       "Name: N_Garagens, dtype: float64"
      ]
     },
     "execution_count": 204,
     "metadata": {},
     "output_type": "execute_result"
    }
   ],
   "source": [
    "df.N_Garagens.value_counts() / df.shape[0]"
   ]
  },
  {
   "cell_type": "markdown",
   "id": "1e665596",
   "metadata": {},
   "source": [
    "### Blox Plot #"
   ]
  },
  {
   "cell_type": "code",
   "execution_count": 205,
   "id": "97f2cc88",
   "metadata": {},
   "outputs": [
    {
     "data": {
      "image/png": "[encoded data removed]",
      "text/plain": [
       "<Figure size 720x504 with 1 Axes>"
      ]
     },
     "metadata": {
      "needs_background": "light"
     },
     "output_type": "display_data"
    }
   ],
   "source": [
    "df.boxplot(figsize=(10,7))\n",
    "plt.title(\"Blox Plot\")\n",
    "plt.show()"
   ]
  },
  {
   "cell_type": "markdown",
   "id": "86d5e51c",
   "metadata": {},
   "source": [
    "### Histograma #"
   ]
  },
  {
   "cell_type": "code",
   "execution_count": 206,
   "id": "60a316b1",
   "metadata": {},
   "outputs": [
    {
     "data": {
      "text/plain": [
       "array([[<AxesSubplot:title={'center':'Metro_m2'}>,\n",
       "        <AxesSubplot:title={'center':'N_Quartos'}>],\n",
       "       [<AxesSubplot:title={'center':'N_Banheiros'}>,\n",
       "        <AxesSubplot:title={'center':'N_Garagens'}>],\n",
       "       [<AxesSubplot:title={'center':'Valor_Mensal'}>, <AxesSubplot:>]],\n",
       "      dtype=object)"
      ]
     },
     "execution_count": 206,
     "metadata": {},
     "output_type": "execute_result"
    },
    {
     "data": {
      "image/png": "[encoded data removed]",
      "text/plain": [
       "<Figure size 720x720 with 6 Axes>"
      ]
     },
     "metadata": {
      "needs_background": "light"
     },
     "output_type": "display_data"
    }
   ],
   "source": [
    "df.hist(grid=False, figsize=(10,10))"
   ]
  },
  {
   "cell_type": "code",
   "execution_count": 207,
   "id": "31f39bc9",
   "metadata": {},
   "outputs": [
    {
     "data": {
      "image/png": "[encoded data removed]",
      "text/plain": [
       "<Figure size 936x576 with 1 Axes>"
      ]
     },
     "metadata": {
      "needs_background": "light"
     },
     "output_type": "display_data"
    }
   ],
   "source": [
    "plt.figure(figsize=(13,8))\n",
    "plt.scatter(df['Metro_m2'],  df['Valor_Mensal'])\n",
    "plt.title('Scatter Plot')\n",
    "plt.xlabel('Metros Quadrados')\n",
    "plt.ylabel('Mensalidade')\n",
    "plt.show()"
   ]
  },
  {
   "cell_type": "markdown",
   "id": "a741e15c",
   "metadata": {},
   "source": [
    "### Mensalidade"
   ]
  },
  {
   "cell_type": "code",
   "execution_count": 208,
   "id": "f1d6bd1b",
   "metadata": {},
   "outputs": [
    {
     "data": {
      "text/plain": [
       "1200    153\n",
       "1000    131\n",
       "1500    109\n",
       "1300     98\n",
       "3500     95\n",
       "       ... \n",
       "735       1\n",
       "1137      1\n",
       "866       1\n",
       "1420      1\n",
       "1712      1\n",
       "Name: Valor_Mensal, Length: 292, dtype: int64"
      ]
     },
     "execution_count": 208,
     "metadata": {},
     "output_type": "execute_result"
    }
   ],
   "source": [
    "df.Valor_Mensal.value_counts()"
   ]
  },
  {
   "cell_type": "code",
   "execution_count": 209,
   "id": "c44c46f7",
   "metadata": {
    "scrolled": true
   },
   "outputs": [
    {
     "data": {
      "text/plain": [
       "(-0.5, 9.5)"
      ]
     },
     "execution_count": 209,
     "metadata": {},
     "output_type": "execute_result"
    },
    {
     "data": {
      "image/png": "[encoded data removed]",
      "text/plain": [
       "<Figure size 1080x432 with 1 Axes>"
      ]
     },
     "metadata": {
      "needs_background": "light"
     },
     "output_type": "display_data"
    }
   ],
   "source": [
    "fig = plt.figure(figsize=(15,6))\n",
    "sns.countplot(x='Valor_Mensal',order=df['Valor_Mensal'].value_counts().index,data=df)\n",
    "\n",
    "plt.title('As 10 Mensalidades mais Disponivéis no Mercado',fontsize=15)\n",
    "plt.ylabel('Quantidade de Propriedades',fontsize=12)\n",
    "plt.xlabel('Valor de Mensalidade',fontsize=12)\n",
    "\n",
    "plt.xlim(-0.5,9.5)"
   ]
  },
  {
   "cell_type": "markdown",
   "id": "45e0217b",
   "metadata": {},
   "source": [
    "### Correlação"
   ]
  },
  {
   "cell_type": "code",
   "execution_count": 210,
   "id": "5f67d21c",
   "metadata": {},
   "outputs": [
    {
     "name": "stdout",
     "output_type": "stream",
     "text": [
      "Correlação:\n",
      "              Metro_m2  N_Quartos  N_Banheiros  N_Garagens  Valor_Mensal\n",
      "Metro_m2      1.000000   0.689146     0.759635    0.491160      0.460820\n",
      "N_Quartos     0.689146   1.000000     0.655819    0.533938      0.428892\n",
      "N_Banheiros   0.759635   0.655819     1.000000    0.580940      0.605324\n",
      "N_Garagens    0.491160   0.533938     0.580940    1.000000      0.632037\n",
      "Valor_Mensal  0.460820   0.428892     0.605324    0.632037      1.000000 \n",
      "\n"
     ]
    }
   ],
   "source": [
    "corr_df = df.corr()\n",
    "print(\"Correlação:\")\n",
    "print(corr_df, \"\\n\")"
   ]
  },
  {
   "cell_type": "code",
   "execution_count": 211,
   "id": "9eb3f799",
   "metadata": {},
   "outputs": [
    {
     "data": {
      "text/plain": [
       "<AxesSubplot:>"
      ]
     },
     "execution_count": 211,
     "metadata": {},
     "output_type": "execute_result"
    },
    {
     "data": {
      "image/png": "[encoded data removed]",
      "text/plain": [
       "<Figure size 1080x504 with 2 Axes>"
      ]
     },
     "metadata": {
      "needs_background": "light"
     },
     "output_type": "display_data"
    }
   ],
   "source": [
    "plt.figure(figsize = (15,7))\n",
    "sns.heatmap(df[corr_df.index].corr(), cmap='Greens', linewidth=0.3, annot=True, cbar_kws={\"shrink\": .8})"
   ]
  },
  {
   "cell_type": "markdown",
   "id": "ebecd4e5",
   "metadata": {},
   "source": [
    "# Trabalho 3 - Algoritmos de Machine Learning"
   ]
  },
  {
   "cell_type": "code",
   "execution_count": 214,
   "id": "5a81c497",
   "metadata": {},
   "outputs": [
    {
     "data": {
      "text/html": [
       "<div>\n",
       "<style scoped>\n",
       "    .dataframe tbody tr th:only-of-type {\n",
       "        vertical-align: middle;\n",
       "    }\n",
       "\n",
       "    .dataframe tbody tr th {\n",
       "        vertical-align: top;\n",
       "    }\n",
       "\n",
       "    .dataframe thead th {\n",
       "        text-align: right;\n",
       "    }\n",
       "</style>\n",
       "<table border=\"1\" class=\"dataframe\">\n",
       "  <thead>\n",
       "    <tr style=\"text-align: right;\">\n",
       "      <th></th>\n",
       "      <th>Título</th>\n",
       "      <th>Endereço</th>\n",
       "      <th>Metro_m2</th>\n",
       "      <th>N_Quartos</th>\n",
       "      <th>N_Banheiros</th>\n",
       "      <th>N_Garagens</th>\n",
       "      <th>Valor_Mensal</th>\n",
       "    </tr>\n",
       "  </thead>\n",
       "  <tbody>\n",
       "    <tr>\n",
       "      <th>0</th>\n",
       "      <td>Apartamento com 3 Quartos para Aluguel, 96m²</td>\n",
       "      <td>Avenida Maria Emília Alves dos Santos de Ângel...</td>\n",
       "      <td>96</td>\n",
       "      <td>3</td>\n",
       "      <td>2</td>\n",
       "      <td>2</td>\n",
       "      <td>2800</td>\n",
       "    </tr>\n",
       "    <tr>\n",
       "      <th>1</th>\n",
       "      <td>Apartamento com  Quarto para Venda/Aluguel 37m²</td>\n",
       "      <td>Avenida Francisco Glicério, 1745 - Centro, Cam...</td>\n",
       "      <td>37</td>\n",
       "      <td>1</td>\n",
       "      <td>1</td>\n",
       "      <td>0</td>\n",
       "      <td>780</td>\n",
       "    </tr>\n",
       "    <tr>\n",
       "      <th>2</th>\n",
       "      <td>Apartamento com 2 Quartos para Aluguel, 70m²</td>\n",
       "      <td>Rua Reinaldo Laubenstein, 271 - Jardim Chapadã...</td>\n",
       "      <td>70</td>\n",
       "      <td>2</td>\n",
       "      <td>1</td>\n",
       "      <td>1</td>\n",
       "      <td>950</td>\n",
       "    </tr>\n",
       "    <tr>\n",
       "      <th>3</th>\n",
       "      <td>Apartamento com  Quarto para Aluguel, 50m²</td>\n",
       "      <td>Botafogo, Campinas - SP</td>\n",
       "      <td>50</td>\n",
       "      <td>1</td>\n",
       "      <td>1</td>\n",
       "      <td>1</td>\n",
       "      <td>900</td>\n",
       "    </tr>\n",
       "    <tr>\n",
       "      <th>4</th>\n",
       "      <td>Apartamento com 2 Quartos para Aluguel, 54m²</td>\n",
       "      <td>Rua Bernardino Martins Filho - Jardim das Band...</td>\n",
       "      <td>54</td>\n",
       "      <td>2</td>\n",
       "      <td>1</td>\n",
       "      <td>1</td>\n",
       "      <td>750</td>\n",
       "    </tr>\n",
       "  </tbody>\n",
       "</table>\n",
       "</div>"
      ],
      "text/plain": [
       "                                            Título  \\\n",
       "0     Apartamento com 3 Quartos para Aluguel, 96m²   \n",
       "1  Apartamento com  Quarto para Venda/Aluguel 37m²   \n",
       "2     Apartamento com 2 Quartos para Aluguel, 70m²   \n",
       "3       Apartamento com  Quarto para Aluguel, 50m²   \n",
       "4     Apartamento com 2 Quartos para Aluguel, 54m²   \n",
       "\n",
       "                                            Endereço  Metro_m2  N_Quartos  \\\n",
       "0  Avenida Maria Emília Alves dos Santos de Ângel...        96          3   \n",
       "1  Avenida Francisco Glicério, 1745 - Centro, Cam...        37          1   \n",
       "2  Rua Reinaldo Laubenstein, 271 - Jardim Chapadã...        70          2   \n",
       "3                            Botafogo, Campinas - SP        50          1   \n",
       "4  Rua Bernardino Martins Filho - Jardim das Band...        54          2   \n",
       "\n",
       "   N_Banheiros  N_Garagens  Valor_Mensal  \n",
       "0            2           2          2800  \n",
       "1            1           0           780  \n",
       "2            1           1           950  \n",
       "3            1           1           900  \n",
       "4            1           1           750  "
      ]
     },
     "execution_count": 214,
     "metadata": {},
     "output_type": "execute_result"
    }
   ],
   "source": [
    "df.head()"
   ]
  },
  {
   "cell_type": "code",
   "execution_count": 215,
   "id": "50d220bb",
   "metadata": {},
   "outputs": [],
   "source": [
    "X = df[['Metro_m2','N_Quartos','N_Banheiros','N_Garagens']]\n",
    "y = df['Valor_Mensal']\n",
    "#y"
   ]
  },
  {
   "cell_type": "code",
   "execution_count": 216,
   "id": "752fb7b8",
   "metadata": {},
   "outputs": [],
   "source": [
    "from sklearn.model_selection import train_test_split\n",
    "from sklearn.preprocessing import MinMaxScaler\n",
    "from sklearn.linear_model import LinearRegression\n",
    "from sklearn.neighbors import KNeighborsClassifier\n",
    "import time\n",
    "from sklearn.ensemble import RandomForestRegressor, AdaBoostRegressor\n",
    "from sklearn.model_selection import GridSearchCV\n",
    "from sklearn.ensemble import RandomForestRegressor\n",
    "from sklearn.ensemble import GradientBoostingRegressor\n",
    "from sklearn.ensemble import RandomForestRegressor"
   ]
  },
  {
   "cell_type": "code",
   "execution_count": null,
   "id": "0fc545d0",
   "metadata": {},
   "outputs": [],
   "source": [
    "Xtrain, Xtest, Ytrain, Ytest = train_test_split(X, y, test_size=0.2, random_state=42)"
   ]
  },
  {
   "cell_type": "code",
   "execution_count": 217,
   "id": "8c31da0f",
   "metadata": {},
   "outputs": [],
   "source": [
    "scaler = MinMaxScaler()\n",
    "XtrainS = scaler.fit_transform(Xtrain)\n",
    "XtestS = scaler.transform(Xtest)"
   ]
  },
  {
   "cell_type": "code",
   "execution_count": 218,
   "id": "4f9d948f",
   "metadata": {},
   "outputs": [
    {
     "data": {
      "text/plain": [
       "0.5561615481244051"
      ]
     },
     "execution_count": 218,
     "metadata": {},
     "output_type": "execute_result"
    }
   ],
   "source": [
    "rl = LinearRegression()\n",
    "rl.fit(XtrainS, Ytrain)\n",
    "\n",
    "rl.score(XtestS, Ytest)"
   ]
  },
  {
   "cell_type": "code",
   "execution_count": 219,
   "id": "dbfeb3a3",
   "metadata": {},
   "outputs": [
    {
     "data": {
      "text/plain": [
       "0.5965904350962707"
      ]
     },
     "execution_count": 219,
     "metadata": {},
     "output_type": "execute_result"
    }
   ],
   "source": [
    "neigh = KNeighborsRegressor()\n",
    "neigh.fit(XtrainS, Ytrain)\n",
    "\n",
    "neigh.score(XtestS, Ytest)"
   ]
  },
  {
   "cell_type": "code",
   "execution_count": 220,
   "id": "b6d687e0",
   "metadata": {},
   "outputs": [
    {
     "data": {
      "text/plain": [
       "0.6142277415907256"
      ]
     },
     "execution_count": 220,
     "metadata": {},
     "output_type": "execute_result"
    }
   ],
   "source": [
    "rf = RandomForestRegressor()\n",
    "rf.fit(XtrainS, Ytrain)\n",
    "\n",
    "rf.score(XtestS, Ytest)"
   ]
  },
  {
   "cell_type": "code",
   "execution_count": 221,
   "id": "0ac15bbb",
   "metadata": {},
   "outputs": [
    {
     "data": {
      "text/plain": [
       "0.5550947169426041"
      ]
     },
     "execution_count": 221,
     "metadata": {},
     "output_type": "execute_result"
    }
   ],
   "source": [
    "regr = AdaBoostRegressor()\n",
    "regr.fit(XtrainS, Ytrain)\n",
    "\n",
    "regr.score(XtestS, Ytest)"
   ]
  },
  {
   "cell_type": "code",
   "execution_count": 232,
   "id": "b1a61731",
   "metadata": {},
   "outputs": [],
   "source": [
    "param_grid =  {\n",
    "    'n_estimators':[200, 300, 400, 500, 600],\n",
    "    #'max_features':[0.1, 0.3, 0.6],\n",
    "    'max_features' : [\"auto\", \"log2\", \"sqrt\"],\n",
    "    'min_samples_split': [1, 2, 3],\n",
    "    'max_depth': [None, 1, 2, 3],\n",
    "    'bootstrap': [True, False]\n",
    "}\n",
    "RandForest = RandomForestRegressor()\n",
    "\n",
    "Tuned_RandForest = GridSearchCV(RandForest, param_grid=param_grid, cv=5)"
   ]
  },
  {
   "cell_type": "code",
   "execution_count": 233,
   "id": "7fe53a6e",
   "metadata": {},
   "outputs": [
    {
     "name": "stdout",
     "output_type": "stream",
     "text": [
      "533.328125 Seconds\n"
     ]
    }
   ],
   "source": [
    "start_time = time.process_time()\n",
    "Tuned_RandForest.fit(X_train, y_train)\n",
    "\n",
    "print(time.process_time() - start_time, \"Seconds\")"
   ]
  },
  {
   "cell_type": "code",
   "execution_count": 234,
   "id": "e44e0d4d",
   "metadata": {},
   "outputs": [
    {
     "data": {
      "text/plain": [
       "0.6222405365891929"
      ]
     },
     "execution_count": 234,
     "metadata": {},
     "output_type": "execute_result"
    }
   ],
   "source": [
    "Tuned_RandForest.score(X_test, y_test)"
   ]
  },
  {
   "cell_type": "code",
   "execution_count": null,
   "id": "f1244bfa",
   "metadata": {},
   "outputs": [],
   "source": []
  }
 ],
 "metadata": {
  "kernelspec": {
   "display_name": "Python 3 (ipykernel)",
   "language": "python",
   "name": "python3"
  },
  "language_info": {
   "codemirror_mode": {
    "name": "ipython",
    "version": 3
   },
   "file_extension": ".py",
   "mimetype": "text/x-python",
   "name": "python",
   "nbconvert_exporter": "python",
   "pygments_lexer": "ipython3",
   "version": "3.9.12"
  }
 },
 "nbformat": 4,
 "nbformat_minor": 5
}
